{
 "cells": [
  {
   "cell_type": "markdown",
   "metadata": {},
   "source": [
    "# Topic Modelling with Latent Dirichlet Allocation (LDA)\n",
    "\n",
    "Topic modeling is a type of statistical modeling for discovering the topics that occur in a collection of documents. By doing topic modeling, we build clusters of words rather than clusters of texts.\n",
    "\n",
    "LDA is a generative probabilistic model that assumes each topic is a mixture over an underlying set of words, and each document is a mixture of over a set of topic probabilities.\n",
    "\n",
    "We can describe the generative process of LDA as, given the M number of documents, N number of words, and prior K number of topics, the model trains to output:\n",
    "\n",
    "- psi, the distribution of words for each topic K\n",
    "\n",
    "- phi, the distribution of topics for each document i"
   ]
  },
  {
   "cell_type": "markdown",
   "metadata": {},
   "source": [
    "## Tokenize text for LDA\n",
    "To use ```space.load('en')```, download it using the following:\n",
    "\n",
    "```python3 -m spacy download en```"
   ]
  },
  {
   "cell_type": "code",
   "execution_count": 78,
   "metadata": {},
   "outputs": [],
   "source": [
    "import spacy\n",
    "\n",
    "spacy.load(\"en_core_web_sm\")\n",
    "from spacy.lang.en import English\n",
    "parser = English()\n",
    "\n",
    "def tokenize(text):\n",
    "    lda_tokens = []\n",
    "    tokens = parser(text)\n",
    "    for token in tokens:\n",
    "        if token.orth_.isspace():\n",
    "            continue\n",
    "        # elif token.like_url:\n",
    "        #     lda_tokens.append('URL')\n",
    "        # elif token.orth_.startswith('@'):\n",
    "        #     lda_tokens.append('SCREEN_NAME')\n",
    "        else:\n",
    "            lda_tokens.append(token.lower_)\n",
    "    return lda_tokens"
   ]
  },
  {
   "cell_type": "markdown",
   "metadata": {},
   "source": [
    "## Lemmatization using NLTK WordNet\n",
    "\n",
    "Using ```WordNetLemmatizer``` to get the root word."
   ]
  },
  {
   "cell_type": "code",
   "execution_count": 79,
   "metadata": {},
   "outputs": [
    {
     "name": "stderr",
     "output_type": "stream",
     "text": [
      "[nltk_data] Downloading package wordnet to\n",
      "[nltk_data]     C:\\Users\\ejayb\\AppData\\Roaming\\nltk_data...\n",
      "[nltk_data]   Package wordnet is already up-to-date!\n"
     ]
    }
   ],
   "source": [
    "import nltk\n",
    "import ssl\n",
    "\n",
    "try:\n",
    "    _create_unverified_https_context = ssl._create_unverified_context\n",
    "except AttributeError:\n",
    "    pass\n",
    "else:\n",
    "    ssl._create_default_https_context = _create_unverified_https_context\n",
    "\n",
    "nltk.download('wordnet')\n",
    "\n",
    "from nltk.stem.wordnet import WordNetLemmatizer\n",
    "def get_lemma(word):\n",
    "    return WordNetLemmatizer().lemmatize(word)"
   ]
  },
  {
   "cell_type": "markdown",
   "metadata": {},
   "source": [
    "## Getting a list of StopWords "
   ]
  },
  {
   "cell_type": "code",
   "execution_count": 80,
   "metadata": {},
   "outputs": [
    {
     "name": "stderr",
     "output_type": "stream",
     "text": [
      "[nltk_data] Downloading package stopwords to\n",
      "[nltk_data]     C:\\Users\\ejayb\\AppData\\Roaming\\nltk_data...\n",
      "[nltk_data]   Package stopwords is already up-to-date!\n"
     ]
    }
   ],
   "source": [
    "nltk.download('stopwords')\n",
    "en_stop = set(nltk.corpus.stopwords.words('english'))"
   ]
  },
  {
   "cell_type": "markdown",
   "metadata": {},
   "source": [
    "## Text pre-processing\n",
    "\n",
    "Following steps are followed for text pre-processing before using LDA:\n",
    "1. Find the topic sentence in the text by using a custom regex expression\n",
    "1. Tokenize text using our tokenizer above\n",
    "1. Remove tokens of length less than 4\n",
    "1. Remove tokens that are stop words\n",
    "1. Reduce tokens to their base form using our Lemmatizer above"
   ]
  },
  {
   "cell_type": "code",
   "execution_count": 81,
   "metadata": {},
   "outputs": [
    {
     "name": "stdout",
     "output_type": "stream",
     "text": [
      "a nice title here. banana.\n",
      "a nice title here. we show that god has no mercy\n"
     ]
    }
   ],
   "source": [
    "import regex as re\n",
    "from nltk.tokenize import sent_tokenize\n",
    "    \n",
    "#By HJB\n",
    "def extract_topic_sentences(title, abstract):\n",
    "    title = title.lower()\n",
    "    abstract = abstract.lower()\n",
    "    sentences = sent_tokenize(abstract)\n",
    "    topic_indicators = ['we show that','this study shows that','the goal of this study is',\n",
    "                        'we find','this study finds','results:','we report here','we conclude','we show','this study shows',\n",
    "                       'study indicates']\n",
    "    regex_expr = r\"\"\"(\\.|\\A)\\s(?P<topic_sentence>[^\\.]*(\"\"\"+\"|\".join(topic_indicators)+r\"\"\")[^\\.]*)(\\.|\\Z)\"\"\"\n",
    "    matches = list(re.finditer(regex_expr,abstract))\n",
    "    if matches == None or len(matches)==0:\n",
    "        topic_sentence = sentences[-1]\n",
    "    else:\n",
    "        topic_sentence = matches[-1].group('topic_sentence').strip()\n",
    "    out = title + '. ' + topic_sentence\n",
    "    return out\n",
    "\n",
    "print(extract_topic_sentences('A nice title here', \n",
    "                              'I desire only to die. There is nothing left for me. Banana.'))\n",
    "print(extract_topic_sentences('A nice title here', \n",
    "                              'I desire only to die. We show that god has no mercy. There is nothing left for me.'))"
   ]
  },
  {
   "cell_type": "code",
   "execution_count": null,
   "metadata": {},
   "outputs": [],
   "source": []
  },
  {
   "cell_type": "code",
   "execution_count": 82,
   "metadata": {},
   "outputs": [],
   "source": [
    "#By HJB\n",
    "def isNum(s):\n",
    "    if s[0] == \"-\":\n",
    "        s = s[1:]\n",
    "    return s.replace('.','').isnumeric()\n",
    "def prepare_text_for_lda(title, abstract):\n",
    "    text = extract_topic_sentences(title,abstract)\n",
    "    tokens = tokenize(text)\n",
    "    tokens = [token for token in tokens if len(token) > 4]\n",
    "    tokens = [token for token in tokens if token not in en_stop]\n",
    "    #Added by HJB, filter out tokens which are just numbers\n",
    "    tokens = [token for token in tokens if not(isNum(token))]\n",
    "    tokens = [(token) for token in tokens]\n",
    "    return tokens\n"
   ]
  },
  {
   "cell_type": "markdown",
   "metadata": {},
   "source": [
    "## Processing COVID metadata"
   ]
  },
  {
   "cell_type": "code",
   "execution_count": 83,
   "metadata": {
    "tags": []
   },
   "outputs": [
    {
     "name": "stdout",
     "output_type": "stream",
     "text": [
      "Total Articles:  51078\n"
     ]
    }
   ],
   "source": [
    "import random\n",
    "import pandas as pd\n",
    "\n",
    "text_data = []\n",
    "covid_dataset = pd.read_csv(r\"\"\"C:\\Users\\ejayb\\HealthDataAnalytics\\Proj3\\Problem2\\metadata_April10_2020.csv\"\"\",\n",
    "                             encoding = \"ISO-8859-1\")\n",
    "print(\"Total Articles: \", len(covid_dataset))\n"
   ]
  },
  {
   "cell_type": "code",
   "execution_count": null,
   "metadata": {},
   "outputs": [
    {
     "name": "stdout",
     "output_type": "stream",
     "text": [
      "['screen', 'isg15', 'crossreactive', 'deubiquitinases', 'results', 'cloned', 'expressed', 'human', 'representing', 'major', 'clades', 'protease', 'family']\n",
      "['predictability', 'epidemic', 'pathways', 'global', 'outbreaks', 'infectious', 'diseases', 'study', 'results', 'order', 'assess', 'predictive', 'power', 'model', 'study', 'global', 'spread', 'considered']\n",
      "['autoimmune', 'cholangitis', 'mouse', 'antigen', 'specific', 'autoimmune', 'cholangitis', 'antigen', 'specific']\n",
      "['treatment', 'proteasome', 'inhibitor', 'bortezomib', 'enhances', 'antigen', 'specific', 'mediated', 'antitumor', 'immunity', 'induced', 'vaccination', 'electronic', 'supplementary', 'material', 'online', 'version', 'article', 'doi:10.1007', 's00109', 'contains', 'supplementary', 'material', 'available', 'authorized', 'users']\n",
      "['synthetic', 'biology', 'applications', 'engineering', 'genetic', 'circuits', 'biological', 'modules', 'synthetic', 'pathways', 'beginning', 'address', 'critical', 'problems', 'related', 'practical', 'applications']\n",
      "['spatial', 'patterns', 'bovine', 'corona', 'virus', 'bovine', 'respiratory', 'syncytial', 'virus', 'swedish', 'cattle', 'population', 'results', 'animals', 'detected', 'positive', 'predominately', 'located', 'central', 'western', 'southern', 'parts', 'sweden']\n",
      "['identification', 'adenovirus', 'influenza', 'virus', 'parainfluenza', 'virus', 'respiratory', 'syncytial', 'virus', 'kinds', 'multiplex', 'polymerase', 'chain', 'reaction', 'shell', 'culture', 'pediatric', 'patients', 'viral', 'pneumonia', 'results', 'positive', 'samples', 'total', 'samples', 'multiplex']\n",
      "['coronavirus', 'protein', 'interacts', 'pals1', 'alters', 'tight', 'junction', 'formation', 'epithelial', 'morphogenesis', 'using', 'coimmunoprecipitation', 'assays', 'interacts', 'pals1', 'mammalian', 'cells', 'demonstrate', 'carboxy', 'terminal', 'amino', 'acids', 'novel', 'binding', 'motif', 'binds', 'pals1', 'domain']\n",
      "['identification', 'mycobacterium', 'tuberculosis', 'specific', 'cells', 'using', 'expression', 'cd40l', 'tuberculous', 'pleurisy', 'taken', 'together', 'indicate', 'expression', 'cd40l', 'specific', 'cd4(+', 'cells', 'could', 'marker', 'evaluation', 'isolation', 'specific', 'cells', 'might', 'useful', 'diagnosis']\n",
      "['topographic', 'changes', 'coronavirusâ\\x80\\x93infected', 'cells', 'stages', 'infection', 'thickening', 'actin', 'filaments', 'provided', 'bending', 'force', 'extrude', 'virus', 'particles']\n",
      "['circulation', 'human', 'coronaviruses', 'hcovs', 'queensland', 'children', 'acute', 'respiratory', 'tract', 'illnesses', 'cooler', 'months', 'sensitive', 'specific', 'rtpcrs', 'identified', 'concurrent', 'circulation', 'hcovs', 'quarter', 'occurred', 'another', 'virus', 'children', 'years']\n",
      "['social', 'factors', 'associated', 'specific', 'sociodemographic', 'groups', 'persons', 'likely', 'informed', 'worried', 'contracting', 'diseases']\n",
      "['protective', 'receptor', 'induced', 'interferon', 'murine', 'coronavirus', 'infection', 'macrophages', 'demonstrate', 'activation', 'synthetic', 'ligand', 'mediates', 'antiviral', 'immunity', 'diminishes', 'suppresses', 'mhv-3', 'virus', 'production', 'macrophages']\n",
      "['analysis', 'pathogenesis', 'symptomatic', 'pulmonary', 'embolism', 'human', 'genomics', 'results', 'genomic', 'showed', 'damage', 'vascular', 'endothelial', 'cells', 'patients']\n",
      "['evolution', 'viral', 'proteins', 'originated', 'overprinting', 'oldest', 'genes', 'evolve', 'stronger', 'selection', 'pressure', 'ancestral', 'overlap', 'suggesting', 'evolutionary', 'ancestral']\n",
      "['critical', 'neutralizing', 'domain', 'influenza', 'optimal', 'conformation', 'induces', 'strong', 'cross', 'protection', 'results', 'suggest', 'oligomeric', 'containing', 'developed', 'effective', 'vaccine', 'cross', 'protection', 'divergent', 'strains', 'viruses']\n",
      "['circulation', 'diverse', 'paramyxoviruses', 'urban', 'african', 'fruit', 'population', 'additionally', 'batâ\\x80\\x93human', 'contact', 'study', 'calls', 'zoonotic', 'potential', 'detected', 'viruses', 'investigated']\n",
      "['findings', 'lessons', 'evaluation', 'rockefeller', 'foundation', 'disease', 'surveillance', 'networks', 'initiative']\n",
      "['hangeul', 'twitter', 'track', 'predict', 'human', 'influenza', 'infection', 'prediction', 'model', 'using', 'delay', 'provides', 'assessment', 'current', 'influenza', 'epidemic', 'activity', 'significant', 'improvement', 'prediction', 'performance', 'initial', 'phase', 'prediction', 'importance']\n",
      "['mechanisms', 'impact', 'frequent', 'exacerbator', 'phenotype', 'chronic', 'obstructive', 'pulmonary', 'disease', 'review', 'article', 'definition', 'importance', 'frequent', 'exacerbator', 'phenotype', 'detailed', 'examination', 'pathophysiology', 'impact', 'interaction', 'comorbidities']\n",
      "['surveillance', 'response', 'systems', 'evidence', 'updates', 'emerging', 'zoonoses', 'health', 'access', 'platform', 'supported', 'builders', 'resources', 'urgently', 'needed', 'counter', 'emerging', 'zoonoses']\n",
      "['chinese', 'social', 'media', 'reaction', 'avian', 'influenza', 'a(h7n9', 'outbreaks', 'results', 'results', 'chinese', 'people', 'reacted', 'significantly', 'outbreaks', 'online', 'social', 'media', 'reaction', 'orders', 'magnitude', 'stronger', 'influenza', 'outbreak', 'happened', 'china', 'outbreak', 'china']\n",
      "['evolution', 'structural', 'organization', 'proteins', 'paramyxovirinae', 'originated', 'twice', 'suggests', 'balanced', 'evolutionary', 'advantage', 'perhaps', 'reducing', 'genetic', 'region', 'vulnerable', 'mutations']\n",
      "['novel', 'hantaviruses', 'diversifying', 'reservoir', 'hosts', 'development', 'reservoir', 'derived', 'culture', 'models', 'lines', 'would', 'valuable', 'studies', 'rodent', 'borne', 'viruses', 'orthopox-', 'arenaviruses']\n",
      "['cellular', 'unfolded', 'protein', 'response', 'viruses', 'therapy', 'context', 'therapy', 'becomes', 'major', 'roadblock', 'potentially', 'trigger', 'inflammatory', 'responses', 'vectors', 'reduce', 'efficiency', 'transfer']\n",
      "['fecal', 'virome', 'domesticated', 'animals', 'approach', 'several', 'studies', 'investigating', 'fecal', 'samples', 'livestock', 'companion', 'animal', 'species', 'providing', 'information', 'diversity', 'animal', 'fecal', 'virome', 'helping', 'elucidation', 'etiology', 'diarrheal', 'disease', 'animals', 'identifying', 'potential', 'zoonotic', 'emerging', 'viruses']\n",
      "['ultra', 'chest', 'patients', 'neutropenic', 'fever', 'hematologic', 'malignancy', 'image', 'quality', 'diagnostic', 'performance', 'results', 'patients', 'pneumonia', 'noninfectious', 'disease', 'remarkable', 'chest', 'computed', 'tomography', 'extrathoracic', 'fever', 'focus', 'specific', 'disease']\n",
      "['studies', 'pharmacophore', 'modeling', 'virtual', 'screening', 'series', 'steroidal', 'aromatase', 'inhibitors', 'compounds', 'obtained', 'biological', 'activities', 'predicted', 'comfa', 'comsia', 'models', 'expected', 'design', 'potent', 'novel']\n",
      "['cullin', 'ligases', 'rewiring', 'viral', 'factors', 'review', 'focused', 'methods', 'viruses', 'perturb', 'focusing', 'substrate', 'sequestration', 'viral', 'regulation', 'activity']\n",
      "['safety', 'immunogenicity', 'vaccines', 'encoding', 'ebolavirus', 'marburgvirus', 'glycoproteins', 'phase', 'clinical', 'trial', 'results', 'vaccines', 'tolerated', 'serious', 'adverse', 'events', 'subjects', 'positive', 'enzyme', 'linked', 'immunosorbent', 'assay', 'results', 'â\\x89¥30']\n",
      "['virus', 'positive', 'blood', 'donation', 'subsequent', 'entomological', 'investigation', 'austria', 'detection', 'blood', 'donation', 'originating', 'prevalence', 'humans', 'three', 'serologically', 'diagnosed', 'cases', 'surprising', 'emphasizes', 'importance', 'nucleic', 'testing', 'blood', 'donations', 'areas', 'along', 'active', 'mosquito', 'surveillance', 'programs']\n",
      "['tissue', 'glycan', 'binding', 'specificities', 'avian', 'viral', 'attachment', 'proteins', 'using', 'novel', 'avian', 'tissue', 'microarrays', 'taken', 'together', 'provide', 'novel', 'platform', 'field', 'infectious', 'diseases', 'allow', 'identification', 'binding', 'specificities', 'viral', 'attachment', 'proteins', 'helpful', 'insight', 'susceptibility', 'organ', 'avian', 'pathogens']\n",
      "['integrated', 'cluster-', 'based', 'surveillance', 'detecting', 'stage', 'zoonotic', 'pathogens', 'example', 'nipah', 'virus', 'surveillance', 'bangladesh', 'faced', 'thousands', 'encephalitis', 'cases', 'integrated', 'cluster', 'surveillance', 'allows', 'targeted', 'deployment', 'investigative', 'resources', 'detect', 'outbreaks', 'stage', 'zoonotic', 'pathogens', 'resource', 'limited', 'settings']\n"
     ]
    },
    {
     "name": "stdout",
     "output_type": "stream",
     "text": [
      "['evolutionary', 'history', 'photolyase', 'cryptochrome', 'superfamily', 'eukaryotes', 'results', 'performed', 'comprehensive', 'evolutionary', 'analysis', 'superfamily']\n",
      "['combination', 'effects', 'ribavirin', 'interferons', 'severe', 'fever', 'thrombocytopenia', 'syndrome', 'virus', 'infection', 'results', 'effects', 'ifnî³', 'concentrations', 'slightly', 'weaker', 'showed', 'dependent', 'inhibitory', 'effects']\n",
      "['prophylaxis', 'middle', 'respiratory', 'syndrome', 'coronavirus', 'cov)â\\x80\\x93specific', 'human', 'monoclonal', 'antibody', 'protects', 'rabbits', 'infection', 'protection', 'rabbits', 'supports', 'clinical', 'development']\n",
      "['cybercare', 'meeting', 'challenge', 'global', 'burden', 'disease', 'paper', 'discuss', 'cybercare', 'implemented', 'envision', 'growth']\n",
      "['efficacy', 'safety', 'pharmacokinetics', 'liquid', 'intravenous', 'immunoglobulin', 'containing', 'titer', 'neutralizing', 'antibody', 'respiratory', 'viruses', 'subjects', 'primary', 'immunodeficiency', 'disease', 'results', 'fifty', 'patients', 'different', 'sites', 'across', 'enrolled', 'study', 'received', 'regular', 'infusions', 'ri-002', 'course']\n",
      "['molecular', 'phylogenetic', 'analysis', 'matrix', 'avian', 'influenza', 'viruses', 'isolated', 'birds', 'markets', 'conclusions', 'results', 'indicate', 'independent', 'evolution', 'mâ\\x80\\x90gene', 'absence', 'antiviral', 'drugs', 'leading', 'mutations', 'causing', 'resistance', 'indicating', 'continued', 'active', 'surveillance']\n",
      "['viral', 'infections', 'central', 'nervous', 'system', 'pathogenesis', 'therapeutics']\n",
      "['tuberculosis', 'susceptibility', 'vaccine', 'protection', 'independently', 'controlled', 'genotype', 'observations', 'support', 'important', 'genetic', 'diversity', 'determining', 'efficacy', 'provide', 'resource', 'rationally', 'develop', 'broadly', 'efficacious', 'vaccines']\n",
      "['effect', 'hospital', 'isolation', 'precautions', 'patient', 'outcomes', 'multi', 'retrospective', 'propensity', 'score', 'matched', 'cohort', 'study', 'results', 'total', '17,649', 'isolated', 'patients', 'admitted', 'participating', 'hospitals', 'study', 'period']\n",
      "['genome', 'analysis', 'codon', 'usage', 'bovine', 'coronavirus', 'results', 'global', 'codon', 'usage', 'among', 'strains', 'similar']\n",
      "['recent', 'increase', 'surface', 'particulate', 'matter', 'concentrations', 'seoul', 'metropolitan', 'korea', 'conclude', 'current', 'concentration', 'trend', 'south', 'korea', 'combination', 'decline', 'emission', 'control', 'efforts', 'short', 'fluctuation', 'regional', 'speed', 'interannual', 'variability']\n",
      "['induction', 'antiviral', 'immune', 'response', 'recognition', 'repeating', 'subunit', 'pattern', 'viral', 'capsids', 'receptor', 'dependent', 'results', 'demonstrate', 'responds', 'invading', 'viral', 'particles', 'composed', 'repeating', 'protein', 'subunits', 'indicating', 'common', 'architecture', 'virus', 'capsids', 'previously', 'unrecognized', 'molecular', 'pattern']\n",
      "['preclinical', 'development', 'production', 'virus', 'particles', 'vaccine', 'candidates', 'hepatitis', 'paper', 'review', 'based', 'vaccines', 'immunogenicity', 'animal', 'models', 'different', 'expression', 'systems', 'production']\n",
      "['revalidation', 'genetic', 'characterization', 'members', 'group', 'orthobunyavirus', 'genus', 'peribunyaviridae', 'family', 'isolated', 'americas', 'study', 'expands', 'genomic', 'information', 'group', 'viruses', 'revalidates', 'genomic', 'organization', 'viruses', 'previously', 'reported']\n",
      "['preparation', 'aluminum', 'oxide', 'coated', 'glass', 'slides', 'glycan', 'microarrays', 'study', 'demonstrated', 'glycan', 'array', 'prepared', 'slide', 'homogeneous', 'better', 'spatial', 'control', 'compared', 'commonly', 'glycan', 'array', 'prepared', 'hydroxysuccinimide', 'activated', 'glass', 'slide']\n",
      "['inflammasome', 'double', 'edged', 'sword', 'liver', 'diseases', 'review', 'summarize', 'latest', 'advances', 'physiological', 'pathological', 'roles', 'inflammasomes', 'development', 'inflammasome', 'based', 'therapeutic', 'strategies', 'human', 'liver', 'diseases']\n",
      "['plant', 'derived', 'chimeric', 'antibodies', 'inhibit', 'invasion', 'human', 'fibroblasts', 'toxoplasma', 'gondii', 'novel', 'recombinant', 'antibodies', 'could', 'therefore', 'suitable', 'development', 'plant', 'derived', 'immunotherapeutic', 'interventions', 'toxoplasmosis']\n",
      "['oligonucleotide', 'functionalised', 'microbeads', 'indispensable', 'tools', 'throughput', 'aptamer', 'selection', 'within', 'review', 'explore', 'examples', 'applications', 'oligonucleotide', 'functionalised', 'microbeads', 'aptamer', 'selection', 'reflect', 'opportunities', 'arising', 'aptamer', 'science']\n",
      "['geographical', 'disparities', 'emergency', 'department', 'presentations', 'acute', 'respiratory', 'infections', 'factors', 'presenting', 'population', 'based', 'cohort', 'study', 'western', 'australian', 'children', 'results', 'overall', 'presentations']\n",
      "['synthesis', 'application', 'silver', 'nanoparticles', 'prevention', 'infection', 'healthcare', 'workers', 'review', 'outlines', 'synthesis', 'utilization', 'medical', 'field', 'focusing', 'environment', 'friendly', 'synthesis', 'suppression', 'infections', 'healthcare', 'workers']\n",
      "['virus-', 'interferon', 'alpha', 'induced', 'transcriptomes', 'cells', 'microbat', 'myotis', 'daubentonii', 'yangochiroptera', 'microbats', 'represented', 'myotis', 'possess', 'system', 'distinctive', 'features']\n",
      "['practical', 'povidoneâ\\x80\\x90iodine', 'antiseptic', 'maintenance', 'health', 'prevention', 'treatment', 'common', 'oropharyngeal', 'infections', 'results', 'antiseptics', 'broadâ\\x80\\x90spectrum', 'antiâ\\x80\\x90infective', 'activity', 'resistance', 'potential', 'offer', 'attractive', 'option', 'infection', 'control', 'prevention']\n",
      "['editors', 'novel', 'coronavirus']\n",
      "['acute', 'respiratory', 'distress', 'syndrome', 'organ', 'phenotype', 'vascular', 'microthrombotic', 'disease', 'based', 'hemostatic', 'theory', 'endothelial', 'molecular', 'pathogenesis', 'effective', 'treatment', 'achieved', 'counteracting', 'activated', 'microthrombotic', 'pathway', 'based', 'novel', 'hemostatic', 'theories']\n",
      "['patient', 'transport', 'covid-19']\n",
      "['telefonische', 'infektionsepidemiologische', 'lã¤nder', 'lagekonferenz', 'deutschland', 'zwischenbilanz', 'quartalen', 'telephone', 'conference', 'proven', 'useful', 'resource', 'rapid', 'direct', 'communication', 'coordination', 'evaluation', 'signals', 'public', 'health', 'events', 'germany']\n",
      "['broad', 'spectrum', 'bioactivities', 'silver', 'nanoparticles', 'emerging', 'trends', 'future', 'prospects', 'emphasis', 'dedicated', 'antimicrobial', 'anticancer', 'potential', 'silver', 'nanoparticles', 'showing', 'promising', 'characteristics', 'treatment', 'prophylaxis', 'control', 'infections', 'diagnosis', 'treatment', 'different', 'cancer', 'types']\n",
      "['immunogenicity', 'neutralizing', 'epitope', 'porcine', 'epidemic', 'diarrhea', 'virus', 'targeting', 'ligand', 'fusion', 'protein', 'expressed', 'transgenic', 'calli', 'message', 'neutralizing', 'epitope', 'porcine', 'epidemic', 'diarrhea', 'virus', 'targeting', 'ligand', 'fusion', 'protein', 'produced', 'transgenic', 'calli', 'elicited', 'systemic', 'mucosal', 'immune', 'responses', 'administration']\n",
      "['cells', 'influenza', 'virus', 'vaccine', 'production', 'comparison', 'scale', 'bioreactor', 'cultivation', 'however', 'using', 'cultivation', 'conditions', 'scale', 'bioreactors', 'stirred', 'bioreactor', 'resulted', 'lower', 'productivities', 'cells']\n",
      "['passively', 'acquired', 'challenge', 'immunity', 'enterotropic', 'coronavirus', 'alone', 'required', 'complete', 'protection']\n",
      "['large', 'artery', 'ischaemic', 'stroke', 'severe', 'acute', 'respiratory', 'syndrome', 'believe', 'experience', 'warrants', 'increased', 'vigilance', 'stroke', 'thrombotic', 'complications', 'among', 'critically', 'patients', 'future', 'outbreaks', 'especially', 'treatment', 'intravenous', 'immunoglobulin', 'increases', 'thrombotic', 'tendency', 'contemplated']\n",
      "['studies', 'aminopeptidase', 'blood', 'children', 'cholestatic', 'liver', 'diseases', 'viral', 'hepatitis', 'increasedactivity', 'broad', 'substrate', 'specificity', 'enzymeseems', 'cofactor', 'cholestasis', 'andhepatitis']\n",
      "['association', 'functional', 'polymorphisms', 'susceptibility', 'enterovirus', 'infection', 'findings', 'suggest', 'polymorphisms', 'promoter', 'mediating', 'susceptibility', 'infection', 'chinese', 'population']\n"
     ]
    },
    {
     "name": "stdout",
     "output_type": "stream",
     "text": [
      "['regulation', 'coronaviral', 'poly(a', 'length', 'infection', 'coronavirus', 'species-', 'specific', 'electronic', 'supplementary', 'material', 'online', 'version', 'article', 'doi:10.1007', 's11262', 'contains', 'supplementary', 'material', 'available', 'authorized', 'users']\n",
      "['complete', 'genome', 'analysis', 'coronavirus', 'identified', 'republic', 'korea', 'electronic', 'supplementary', 'material', 'online', 'version', 'article', 's11262', 'contains', 'supplementary', 'material', 'available', 'authorized', 'users']\n",
      "['coxsackievirus', 'adenovirus', 'infections', 'cardiac', 'cells', 'efficiently', 'inhibited', 'vector', 'mediated', 'interference', 'targeting', 'common', 'receptor', 'conclude', 'knockout', 'shrna', 'vectors', 'efficient', 'coxb3', 'adenovirus', 'primary', 'cardiac', 'cells', 'efficacy', 'approach', 'influenced', 'specific', 'silencing', 'kinetics', 'different', 'tissues']\n",
      "['antibodies', 'virus', 'repeated', 'infections']\n",
      "['weapon', 'world', 'needs', 'michael', 'osterholm', 'calls', 'action', 'levels']\n",
      "['genetic', 'control', 'arthritis', 'onset', 'severity', 'chronicity', 'model', 'rheumatoid', 'arthritis', 'findings', 'demonstrate', 'first', 'different', 'phases', 'chronic', 'perpetuative', 'disease', 'mimics', 'associated', 'distinct', 'genes']\n",
      "['proteins', 'unifying', 'concepts', 'sensing', 'responding', 'cytosolic', 'nucleic', 'acids', 'supplementary', 'information', 'online', 'version', 'article', 'doi:10.1038', 'nri3719', 'contains', 'supplementary', 'material', 'available', 'authorized', 'users']\n",
      "['synthetic', 'peptide', 'studies', 'severe', 'acute', 'respiratory', 'syndrome', 'coronavirus', 'spike', 'glycoprotein', 'perspective', 'vaccine', 'development', 'results', 'synthetic', 'peptides', 'elicited', 'specific', 'antibodies', 'residues', '788â\\x80\\x93820', 'residues', '1002â\\x80\\x931030', 'exhibited', 'immunogenic', 'responses', 'similar', 'found', 'parallel', 'investigation', 'using', 'truncated', 'recombinant', 'protein', 'analogs', 'protein']\n",
      "['regional', 'diversification', 'influenza', 'activity', 'poland', '2015/16', 'epidemic', 'season', 'knowledge', 'regional', 'differences', 'influenza', 'activity', 'important', 'streamlining', 'distribution', 'preventive', 'therapeutic', 'economic', 'resources', 'combat', 'epidemic']\n",
      "['incidence', 'circulating', 'antibodies', 'hemagglutinin', 'influenza', 'viruses', 'epidemic', 'season', '2013/2014', 'poland', 'furthermore', 'results', 'confirm', 'circulation', 'three', 'antigenically', 'different', 'influenza', 'virus', 'strains', 'subtypes', 'influenza', 'virus', 'california/7/2009/(h1n1)pdm09', 'victoria/361/2011(h3n2', 'massachusetts/2/2012']\n",
      "['practical', 'protocol', 'carbohydrate', 'microarrays', 'provide', 'example', 'illustrate', 'carbohydrate', 'microarray', 'discovery', 'particularly', 'useful', 'identifying', 'immunologic', 'sugar', 'moieties', 'including', 'complex', 'carbohydrates', 'cancer', 'cells', 'sugar', 'signatures', 'previously', 'unrecognized', 'microbial', 'pathogens']\n",
      "['efficient', 'reverse', 'genetic', 'systems', 'rapid', 'genetic', 'manipulation', 'emergent', 'preemergent', 'infectious', 'coronaviruses', 'using', 'method', 'recombinant', 'rapidly', 'generated', 'investigate', 'range', 'function', 'pathogenesis', 'candidate', 'therapeutics', 'emerging', 'preemergent', 'vitro']\n",
      "['infectious', 'disease', 'modeling', 'dynamics', 'transmission', 'particular', 'highlight', 'recent', 'technical', 'innovations', 'could', 'overcome', 'logistical', 'challenges', 'commonly', 'associated', 'empirical', 'disease', 'research', 'populations']\n",
      "['incidence', 'burden', 'coronaviruses', 'preferential', 'associations', 'respiratory', 'viruses', 'since', 'distributions', 'respiratory', 'viruses', 'multiply', 'infected', 'patients', 'subject', 'preferential', 'association', 'patterns', 'viruses', 'propose', 'complex', 'interactions', 'different', 'respiratory', 'viruses', 'factors']\n",
      "['photon', 'imaging', 'remyelination', 'spinal', 'axons', 'engrafted', 'neural', 'precursor', 'cells', 'viral', 'model', 'multiple', 'sclerosis', 'findings', 'indicate', 'transplanted', 'inflammatory', 'demyelinating', 'microenvironment', 'participate', 'directly', 'therapeutic', 'outcome', 'wrapping', 'myelin', 'around', 'damaged', 'neurons']\n",
      "['engaging', 'hospitals', 'tuberculosis', 'control', 'targets', 'china', 'using', 'internet', 'policy', 'practice', 'based', 'available', 'routine', 'surveillance', 'facilitated', 'internet', 'based', 'system', 'paper', 'details', 'process', 'outcomes', 'strengthening', 'collaboration', 'hospitals', 'dispensaries', 'using', 'internet', 'potential', 'application', 'country', 'settings']\n",
      "['impact', 'severe', 'acute', 'respiratory', 'syndrome', 'outbreak', 'emergency', 'department', 'experience', 'taiwan', 'results', 'consecutive', 'encounters', 'january', 'respectively']\n",
      "['development', 'novel', 'transgenic', 'overexpressing', 'p2y(2', 'nucleotide', 'receptor', 'using', 'lentiviral', 'vector', 'transgenic', 'model', 'p2y(2)r', 'overexpression', 'prove', 'useful', 'linking', 'p2y(2)r', 'upregulation', 'chronic', 'inflammatory', 'diseases', 'neurodegenerative', 'diseases', 'sjã¶grenâ\\x80\\x99s', 'syndrome']\n",
      "['vaccinia', 'virus', 'infection', 'disrupts', 'microtubule', 'organization', 'centrosome', 'function', 'studies', 'vaccinia', 'provide', 'insights', 'microtubules', 'viral', 'pathogenesis', 'regulation', 'centrosome', 'function']\n",
      "['severe', 'acute', 'respiratory', 'syndrome', 'coronavirus', 'antagonizes', 'stat1', 'function', 'sequestering', 'nuclear', 'import', 'factors', 'rough', 'endoplasmic', 'reticulum', 'golgi', 'membrane', 'discuss', 'likely', 'implications', 'replication', 'pathogenesis']\n",
      "['induction', 'neutrophil', 'gelatinase', 'associated', 'lipocalin', 'vascular', 'injury', 'activation', 'nuclear', 'factor', 'produced', 'interacts', 'mmp-9', 'mechanism', 'modulate', 'mmp-9', 'proteolytic', 'activity', 'vascular', 'repair', 'process']\n",
      "['microscope', 'pathogens', 'probiotics', 'concluding', 'section', 'focuses', 'recent', 'developments', 'molecular', 'diagnostics', 'centring', 'shifting', 'paradigm', 'culture', 'molecular', 'based', 'diagnostics']\n",
      "['conserved', 'domain', 'coronavirus', 'membrane', 'protein', 'important', 'virus', 'assembly', 'results', 'overall', 'suggest', 'important', 'formation', 'viral', 'envelope', 'helping', 'mediate', 'fundamental', 'interactions', 'presence', 'protein', 'stabilize', 'complexes', 'virus', 'assembly']\n",
      "['functional', 'physical', 'interaction', 'activator', 'hepatitis', 'virus', 'protein', 'interestingly', 'interaction', 'appears', 'different', 'interaction', 'enteroviruses', 'another', 'group', 'dependent', 'viruses', 'keeping', 'enteroviruses', 'different', 'functions']\n",
      "['human', 'cytomegalovirus', 'elicits', 'coordinated', 'cellular', 'antiviral', 'response', 'envelope', 'glycoprotein', 'taken', 'together', 'findings', 'reveal', 'initiates', 'coordinated', 'antiviral', 'response', 'contact', 'unidentified', 'surface', 'receptor(s']\n",
      "['murine', 'hepatitis', 'virus', 'nsp14', 'exoribonuclease', 'activity', 'required', 'resistance', 'innate', 'immunity', 'viruses', 'lacking', 'nsp14', 'activity', 'sensitive', 'restriction', 'exogenous', 'viruses', 'produced', 'presence', 'antiviral', 'state', 'capable', 'establishing', 'subsequent', 'viral', 'infection']\n",
      "['molecular', 'characterization', 'mycoplasma', 'pneumoniae', 'infections', 'rural', 'populations', 'thailand', 'examination', 'sequence', 'known', 'polymorphisms', 'conferring', 'macrolide', 'resistance', 'revealed', 'tested', 'possess', 'genotype', 'associated', 'macrolide', 'susceptibility']\n",
      "['respiratory', 'syncytial', 'virus', 'infection', 'human', 'airway', 'epithelial', 'cells', 'polarized', 'specific', 'ciliated', 'cells', 'without', 'obvious', 'cytopathology', 'since', 'rgrsv', 'appears', 'breach', 'lumenal', 'barriers', 'encountered', 'transfer', 'vectors', 'airway', 'virus', 'candidate', 'development', 'transfer', 'vector', 'disease']\n",
      "['immune', 'competent', 'mouse', 'model', 'characterization', 'recombinant', 'measles', 'vaccines', 'study', 'significant', 'quantitative', 'qualitative', 'differences', 'immune', 'responses', 'immune', 'competent', 'immune', 'compromised']\n",
      "['ecological', 'factors', 'driving', 'evolution', 'influenza', 'range', 'ecological', 'thresholds', 'largely', 'independent', 'strength', 'evolutionary', 'trade', 'underscoring', 'importance', 'ecological', 'conditions', 'determining', 'disease', 'range']\n"
     ]
    },
    {
     "name": "stdout",
     "output_type": "stream",
     "text": [
      "['genome', 'proteome', 'annotation', 'organization', 'interpretation', 'integration', 'moreover', 'special', 'interest', 'novel', 'annotation', 'fields', 'phenotypes', 'highlights', 'recent', 'efforts', 'focused', 'integrating', 'annotations']\n",
      "['bayesian', 'dynamic', 'model', 'influenza', 'surveillance', 'findings', 'importance', 'modelling', 'complex', 'dynamics', 'collected', 'influenza', 'surveillance', 'suggest', 'dynamic', 'bayesian', 'networks', 'could', 'suitable', 'modelling', 'tools', 'developing', 'epidemic', 'surveillance', 'systems']\n",
      "['kaposi', 'sarcoma', 'associated', 'herpesvirus', 'encoded', 'replication', 'transcription', 'activator', 'impairs', 'innate', 'immunity', 'ubiquitin', 'mediated', 'degradation', 'myeloid', 'differentiation', 'factor', 'finally', 'showed', 'myd88', 'promoted', 'production', 'inhibited', 'lana-1', 'transcription']\n",
      "['suppressors', 'cytokine', 'signaling', 'upregulated', 'brain', 'resident', 'cells', 'response', 'virus', 'induced', 'inflammation', 'central', 'nervous', 'system', 'least', 'distinctive', 'pathways', 'conclude', 'virus', 'induced', 'inflammation', 'associated', 'upregulation', 'socs1/3', 'expression', 'brain', 'resident', 'cells', 'least', 'distinctive', 'pathways', 'upregulation']\n"
     ]
    }
   ],
   "source": [
    "for index, row in covid_dataset.iterrows():\n",
    "    tokens = prepare_text_for_lda(str(row['title']),str(row['abstract']))\n",
    "    if random.random() > .995:\n",
    "        print(tokens)\n",
    "    text_data.append(tokens)\n"
   ]
  },
  {
   "cell_type": "markdown",
   "metadata": {},
   "source": [
    "## Creating BOW with Dictionary\n",
    "\n",
    "Doc2bow: Convert document (a list of words) into the bag-of-words format = list of (token_id, token_count) 2-tuples"
   ]
  },
  {
   "cell_type": "code",
   "execution_count": 7,
   "metadata": {},
   "outputs": [
    {
     "ename": "ModuleNotFoundError",
     "evalue": "No module named 'gensim'",
     "output_type": "error",
     "traceback": [
      "\u001b[1;31m---------------------------------------------------------------------------\u001b[0m",
      "\u001b[1;31mModuleNotFoundError\u001b[0m                       Traceback (most recent call last)",
      "\u001b[1;32m<ipython-input-7-83f4a41b8408>\u001b[0m in \u001b[0;36m<module>\u001b[1;34m\u001b[0m\n\u001b[1;32m----> 1\u001b[1;33m \u001b[1;32mfrom\u001b[0m \u001b[0mgensim\u001b[0m \u001b[1;32mimport\u001b[0m \u001b[0mcorpora\u001b[0m\u001b[1;33m\u001b[0m\u001b[1;33m\u001b[0m\u001b[0m\n\u001b[0m\u001b[0;32m      2\u001b[0m \u001b[0mdictionary\u001b[0m \u001b[1;33m=\u001b[0m \u001b[0mcorpora\u001b[0m\u001b[1;33m.\u001b[0m\u001b[0mDictionary\u001b[0m\u001b[1;33m(\u001b[0m\u001b[0mtext_data\u001b[0m\u001b[1;33m)\u001b[0m\u001b[1;33m\u001b[0m\u001b[1;33m\u001b[0m\u001b[0m\n\u001b[0;32m      3\u001b[0m \u001b[0mcorpus\u001b[0m \u001b[1;33m=\u001b[0m \u001b[1;33m[\u001b[0m\u001b[0mdictionary\u001b[0m\u001b[1;33m.\u001b[0m\u001b[0mdoc2bow\u001b[0m\u001b[1;33m(\u001b[0m\u001b[0mtext\u001b[0m\u001b[1;33m)\u001b[0m \u001b[1;32mfor\u001b[0m \u001b[0mtext\u001b[0m \u001b[1;32min\u001b[0m \u001b[0mtext_data\u001b[0m\u001b[1;33m]\u001b[0m\u001b[1;33m\u001b[0m\u001b[1;33m\u001b[0m\u001b[0m\n\u001b[0;32m      4\u001b[0m \u001b[0mprint\u001b[0m\u001b[1;33m(\u001b[0m\u001b[0mcorpus\u001b[0m\u001b[1;33m[\u001b[0m\u001b[1;36m0\u001b[0m\u001b[1;33m]\u001b[0m\u001b[1;33m)\u001b[0m\u001b[1;33m\u001b[0m\u001b[1;33m\u001b[0m\u001b[0m\n\u001b[0;32m      5\u001b[0m \u001b[0mprint\u001b[0m\u001b[1;33m(\u001b[0m\u001b[1;34m\"-----\"\u001b[0m\u001b[1;33m)\u001b[0m\u001b[1;33m\u001b[0m\u001b[1;33m\u001b[0m\u001b[0m\n",
      "\u001b[1;31mModuleNotFoundError\u001b[0m: No module named 'gensim'"
     ]
    }
   ],
   "source": [
    "from gensim import corpora\n",
    "dictionary = corpora.Dictionary(text_data)\n",
    "corpus = [dictionary.doc2bow(text) for text in text_data]\n",
    "print(corpus[0])\n",
    "print(\"-----\")\n",
    "print(corpus[1])\n",
    "import pickle\n",
    "pickle.dump(corpus, open('corpus.pkl', 'wb'))\n",
    "dictionary.save('dictionary.gensim')"
   ]
  },
  {
   "cell_type": "markdown",
   "metadata": {},
   "source": [
    "## Training LDA model"
   ]
  },
  {
   "cell_type": "code",
   "execution_count": null,
   "metadata": {},
   "outputs": [],
   "source": [
    "import gensim\n",
    "NUM_TOPICS = 4\n",
    "ldamodel = gensim.models.ldamodel.LdaModel(corpus, num_topics = NUM_TOPICS, id2word=dictionary, passes=15, random_state=42)\n",
    "ldamodel.save('model5.gensim')\n"
   ]
  },
  {
   "cell_type": "markdown",
   "metadata": {},
   "source": [
    "## Compute Model Perplexity and Coherence Score"
   ]
  },
  {
   "cell_type": "code",
   "execution_count": null,
   "metadata": {},
   "outputs": [],
   "source": [
    "from gensim.models.coherencemodel import CoherenceModel\n",
    "\n",
    "# Compute Perplexity\n",
    "print('\\nPerplexity: ', ldamodel.log_perplexity(corpus))  # a measure of how good the model is. lower the better.\n",
    "\n",
    "# Compute Coherence Score\n",
    "coherence_model_lda = CoherenceModel(model=ldamodel, texts=text_data, dictionary=dictionary, coherence='c_v')\n",
    "coherence_lda = coherence_model_lda.get_coherence()\n",
    "print('\\nCoherence Score: ', coherence_lda)"
   ]
  },
  {
   "cell_type": "markdown",
   "metadata": {},
   "source": [
    "## Finding Model with Optimal K - Number of Topics"
   ]
  },
  {
   "cell_type": "code",
   "execution_count": null,
   "metadata": {},
   "outputs": [],
   "source": [
    "def compute_coherence_values(dictionary, corpus, texts, limit, start=2, step=3):\n",
    "    \"\"\"\n",
    "    Compute c_v coherence for various number of topics\n",
    "\n",
    "    Parameters:\n",
    "    ----------\n",
    "    dictionary : Gensim dictionary\n",
    "    corpus : Gensim corpus\n",
    "    texts : List of input texts\n",
    "    limit : Max num of topics\n",
    "\n",
    "    Returns:\n",
    "    -------\n",
    "    model_list : List of LDA topic models\n",
    "    coherence_values : Coherence values corresponding to the LDA model with respective number of topics\n",
    "    \"\"\"\n",
    "    coherence_values = []\n",
    "    perplexity_values = []\n",
    "    model_list = []\n",
    "    for num_topics in range(start, limit, step):\n",
    "        model = gensim.models.ldamodel.LdaModel(corpus, num_topics=num_topics, id2word=dictionary, passes=15, random_state=42)\n",
    "        model_list.append(model)\n",
    "        coherencemodel = CoherenceModel(model=model, texts=texts, dictionary=dictionary, coherence='c_v')\n",
    "        perplexity = model.log_perplexity(corpus)\n",
    "\n",
    "        perplexity_values.append(perplexity)\n",
    "        coherence_values.append(coherencemodel.get_coherence())\n",
    "\n",
    "    return model_list, coherence_values, perplexity_values"
   ]
  },
  {
   "cell_type": "code",
   "execution_count": null,
   "metadata": {},
   "outputs": [],
   "source": [
    "# Can take a long time to run.\n",
    "model_list, coherence_values, perplexity_values = compute_coherence_values(dictionary=dictionary, corpus=corpus, texts=text_data, start=2, limit=40, step=2)"
   ]
  },
  {
   "cell_type": "markdown",
   "metadata": {},
   "source": [
    "## Coherence\n",
    "\n",
    "Coherence measures the relative distance between words within a topic."
   ]
  },
  {
   "cell_type": "code",
   "execution_count": null,
   "metadata": {},
   "outputs": [],
   "source": [
    "from matplotlib import pyplot as plt\n",
    "\n",
    "# Show graph\n",
    "limit=40; start=2; step=2;\n",
    "x = range(start, limit, step)\n",
    "plt.plot(x, coherence_values)\n",
    "plt.xlabel(\"Num Topics\")\n",
    "plt.ylabel(\"Coherence score\")\n",
    "\n",
    "plt.show()"
   ]
  },
  {
   "cell_type": "markdown",
   "metadata": {},
   "source": [
    "## Perplexity\n",
    "\n",
    "Not Often used to pick LDA model. As per https://towardsdatascience.com/evaluate-topic-model-in-python-latent-dirichlet-allocation-lda-7d57484bb5d0\n",
    "\n",
    "\"However, recent studies have shown that predictive likelihood (or equivalently, perplexity) and human judgment are often not correlated, and even sometimes slightly anti-correlated.\""
   ]
  },
  {
   "cell_type": "code",
   "execution_count": null,
   "metadata": {},
   "outputs": [],
   "source": [
    "# Show graph\n",
    "limit=40; start=2; step=2;\n",
    "x = range(start, limit, step)\n",
    "plt.plot(x, perplexity_values)\n",
    "plt.xlabel(\"Num Topics\")\n",
    "plt.ylabel(\"Perplexity\")\n",
    "\n",
    "plt.show()"
   ]
  },
  {
   "cell_type": "markdown",
   "metadata": {},
   "source": [
    "## Top words in each Topic"
   ]
  },
  {
   "cell_type": "code",
   "execution_count": null,
   "metadata": {},
   "outputs": [],
   "source": [
    "topics = ldamodel.print_topics(num_words=10)\n",
    "for topic in topics:\n",
    "    print(topic)\n",
    "    print('----------------------')"
   ]
  },
  {
   "cell_type": "code",
   "execution_count": null,
   "metadata": {},
   "outputs": [],
   "source": [
    "from matplotlib import pyplot as plt\n",
    "from wordcloud import WordCloud, STOPWORDS\n",
    "import matplotlib.colors as mcolors\n",
    "from nltk.corpus import stopwords\n",
    "stop_words = stopwords.words('english')\n",
    "\n",
    "cols = [color for name, color in mcolors.TABLEAU_COLORS.items()]  # more colors: 'mcolors.XKCD_COLORS'\n",
    "\n",
    "cloud = WordCloud(stopwords=stop_words,\n",
    "                  background_color='white',\n",
    "                  width=2500,\n",
    "                  height=1800,\n",
    "                  max_words=10,\n",
    "                  colormap='tab10',\n",
    "                  color_func=lambda *args, **kwargs: cols[i],\n",
    "                  prefer_horizontal=1.0)\n",
    "\n",
    "topics = ldamodel.show_topics(formatted=False)\n",
    "\n",
    "fig, axes = plt.subplots(2, 2, figsize=(10,10), sharex=True, sharey=True)\n",
    "\n",
    "for i, ax in enumerate(axes.flatten()):\n",
    "    fig.add_subplot(ax)\n",
    "    topic_words = dict(topics[i][1])\n",
    "    cloud.generate_from_frequencies(topic_words, max_font_size=300)\n",
    "    plt.gca().imshow(cloud)\n",
    "    plt.gca().set_title('Topic ' + str(i), fontdict=dict(size=16))\n",
    "    plt.gca().axis('off')\n",
    "\n",
    "\n",
    "plt.subplots_adjust(wspace=0, hspace=0)\n",
    "plt.axis('off')\n",
    "plt.margins(x=0, y=0)\n",
    "plt.tight_layout()\n",
    "plt.show()"
   ]
  },
  {
   "cell_type": "markdown",
   "metadata": {},
   "source": [
    "## Testing on new document"
   ]
  },
  {
   "cell_type": "code",
   "execution_count": null,
   "metadata": {},
   "outputs": [],
   "source": [
    "new_doc = 'Increase in efficacy of cancer radiotherapy by combination with whole-body low dose irradiation'\n",
    "new_doc = prepare_text_for_lda(new_doc)\n",
    "new_doc_bow = dictionary.doc2bow(new_doc)\n",
    "print(new_doc_bow)\n",
    "print(ldamodel.get_document_topics(new_doc_bow))"
   ]
  },
  {
   "cell_type": "markdown",
   "metadata": {},
   "source": [
    "## Creating Visualization for Topics"
   ]
  },
  {
   "cell_type": "code",
   "execution_count": null,
   "metadata": {},
   "outputs": [],
   "source": [
    "dictionary = gensim.corpora.Dictionary.load('dictionary.gensim')\n",
    "corpus = pickle.load(open('corpus.pkl', 'rb'))\n",
    "lda = gensim.models.ldamodel.LdaModel.load('model5.gensim')\n",
    "\n",
    "import pyLDAvis.gensim\n",
    "lda_display = pyLDAvis.gensim.prepare(lda, corpus, dictionary, sort_topics=False)\n",
    "pyLDAvis.display(lda_display)\n",
    "pyLDAvis.save_html(lda_display, 'lda.html')"
   ]
  }
 ],
 "metadata": {
  "kernelspec": {
   "display_name": "Python 3",
   "language": "python",
   "name": "python3"
  },
  "language_info": {
   "codemirror_mode": {
    "name": "ipython",
    "version": 3
   },
   "file_extension": ".py",
   "mimetype": "text/x-python",
   "name": "python",
   "nbconvert_exporter": "python",
   "pygments_lexer": "ipython3",
   "version": "3.8.3"
  }
 },
 "nbformat": 4,
 "nbformat_minor": 4
}

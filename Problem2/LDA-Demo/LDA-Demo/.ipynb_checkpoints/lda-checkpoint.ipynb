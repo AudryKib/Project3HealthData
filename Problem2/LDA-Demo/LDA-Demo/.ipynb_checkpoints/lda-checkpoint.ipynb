{
 "cells": [
  {
   "cell_type": "markdown",
   "metadata": {},
   "source": [
    "# Topic Modelling with Latent Dirichlet Allocation (LDA)\n",
    "\n",
    "Topic modeling is a type of statistical modeling for discovering the topics that occur in a collection of documents. By doing topic modeling, we build clusters of words rather than clusters of texts.\n",
    "\n",
    "LDA is a generative probabilistic model that assumes each topic is a mixture over an underlying set of words, and each document is a mixture of over a set of topic probabilities.\n",
    "\n",
    "We can describe the generative process of LDA as, given the M number of documents, N number of words, and prior K number of topics, the model trains to output:\n",
    "\n",
    "- psi, the distribution of words for each topic K\n",
    "\n",
    "- phi, the distribution of topics for each document i"
   ]
  },
  {
   "cell_type": "markdown",
   "metadata": {},
   "source": [
    "## Tokenize text for LDA\n",
    "To use ```space.load('en')```, download it using the following:\n",
    "\n",
    "```python3 -m spacy download en```"
   ]
  },
  {
   "cell_type": "code",
   "execution_count": 1,
   "metadata": {},
   "outputs": [],
   "source": [
    "import spacy\n",
    "\n",
    "spacy.load(\"en_core_web_sm\")\n",
    "from spacy.lang.en import English\n",
    "parser = English()\n",
    "\n",
    "def tokenize(text):\n",
    "    lda_tokens = []\n",
    "    tokens = parser(text)\n",
    "    for token in tokens:\n",
    "        if token.orth_.isspace():\n",
    "            continue\n",
    "        # elif token.like_url:\n",
    "        #     lda_tokens.append('URL')\n",
    "        # elif token.orth_.startswith('@'):\n",
    "        #     lda_tokens.append('SCREEN_NAME')\n",
    "        else:\n",
    "            lda_tokens.append(token.lower_)\n",
    "    return lda_tokens"
   ]
  },
  {
   "cell_type": "markdown",
   "metadata": {},
   "source": [
    "## Lemmatization using NLTK WordNet\n",
    "\n",
    "Using ```WordNetLemmatizer``` to get the root word."
   ]
  },
  {
   "cell_type": "code",
   "execution_count": 2,
   "metadata": {},
   "outputs": [
    {
     "name": "stderr",
     "output_type": "stream",
     "text": [
      "[nltk_data] Downloading package wordnet to\n",
      "[nltk_data]     C:\\Users\\ejayb\\AppData\\Roaming\\nltk_data...\n",
      "[nltk_data]   Package wordnet is already up-to-date!\n"
     ]
    }
   ],
   "source": [
    "import nltk\n",
    "import ssl\n",
    "\n",
    "try:\n",
    "    _create_unverified_https_context = ssl._create_unverified_context\n",
    "except AttributeError:\n",
    "    pass\n",
    "else:\n",
    "    ssl._create_default_https_context = _create_unverified_https_context\n",
    "\n",
    "nltk.download('wordnet')\n",
    "\n",
    "from nltk.stem.wordnet import WordNetLemmatizer\n",
    "def get_lemma(word):\n",
    "    return WordNetLemmatizer().lemmatize(word)"
   ]
  },
  {
   "cell_type": "markdown",
   "metadata": {},
   "source": [
    "## Getting a list of StopWords "
   ]
  },
  {
   "cell_type": "code",
   "execution_count": 3,
   "metadata": {},
   "outputs": [
    {
     "name": "stderr",
     "output_type": "stream",
     "text": [
      "[nltk_data] Downloading package stopwords to\n",
      "[nltk_data]     C:\\Users\\ejayb\\AppData\\Roaming\\nltk_data...\n",
      "[nltk_data]   Package stopwords is already up-to-date!\n"
     ]
    }
   ],
   "source": [
    "nltk.download('stopwords')\n",
    "en_stop = set(nltk.corpus.stopwords.words('english'))"
   ]
  },
  {
   "cell_type": "markdown",
   "metadata": {},
   "source": [
    "## Text pre-processing\n",
    "\n",
    "Following steps are followed for text pre-processing before using LDA:\n",
    "1. Find the topic sentence in the text by using a custom regex expression\n",
    "1. Tokenize text using our tokenizer above\n",
    "1. Remove tokens of length less than 4\n",
    "1. Remove tokens that are stop words\n",
    "1. Reduce tokens to their base form using our Lemmatizer above"
   ]
  },
  {
   "cell_type": "code",
   "execution_count": null,
   "metadata": {},
   "outputs": [],
   "source": [
    "import regex\n",
    "from nltk.tokenize import sent_tokenize\n",
    "def titleEquivelent(titleAbstract):\n",
    "    \n",
    "#By HJB\n",
    "def extract_topic_sentences(title, abstract):\n",
    "    title = title.lower()\n",
    "    abstract = abstract.lower()\n",
    "    sentences = sent_tokenize(abstract)\n",
    "    topic_indicators = ['we show that','this study shows that','the goal of this study is',\n",
    "                        'we find','this study finds','results:','we report here']\n",
    "    \n",
    "    "
   ]
  },
  {
   "cell_type": "code",
   "execution_count": 8,
   "metadata": {},
   "outputs": [],
   "source": [
    "#By HJB\n",
    "def isNum(s):\n",
    "    if s[0] == \"-\":\n",
    "        s = s[1:]\n",
    "    return s.replace('.','').isnumeric()\n",
    "def prepare_text_for_lda(text):\n",
    "    tokens = tokenize(text)\n",
    "    tokens = [token for token in tokens if len(token) > 4]\n",
    "    tokens = [token for token in tokens if token not in en_stop]\n",
    "    #Added by HJB, filter out tokens which are just numbers\n",
    "    tokens = [token for token in tokens if not(isNum(token))]\n",
    "    tokens = [(token) for token in tokens]\n",
    "    return tokens\n"
   ]
  },
  {
   "cell_type": "markdown",
   "metadata": {},
   "source": [
    "## Processing Pubmed Articles"
   ]
  },
  {
   "cell_type": "code",
   "execution_count": 9,
   "metadata": {
    "tags": []
   },
   "outputs": [
    {
     "name": "stdout",
     "output_type": "stream",
     "text": [
      "Total Articles:  300\n"
     ]
    }
   ],
   "source": [
    "import random\n",
    "import pandas as pd\n",
    "\n",
    "text_data = []\n",
    "pubmed_dataset = pd.read_csv('Pubmed_Articles.csv', encoding = \"ISO-8859-1\")\n",
    "print(\"Total Articles: \", len(pubmed_dataset))\n"
   ]
  },
  {
   "cell_type": "code",
   "execution_count": 10,
   "metadata": {},
   "outputs": [
    {
     "name": "stdout",
     "output_type": "stream",
     "text": [
      "['biochimie', 'anticarcinogenesis', 'pathways', 'activated', 'bovine', 'lactoferrin', 'murine', 'small', 'intestine', 'administration', 'bovine', 'lactoferrin', 'inhibits', 'carcinogenesis', 'colon', 'organs', 'metastasis', 'likely', 'mechanism', 'mediates', 'anticarcinogenesis', 'effects', 'enhanced', 'expression', 'cytokines', 'subsequent', 'activation', 'immune', 'cells', 'administration', 'enhances', 'expression', 'interleukin-18', 'il-18', 'mucosa', 'small', 'intestine', 'importantly', 'pepsin', 'hydrolysate', 'induced', 'expression', 'il-18', 'mouse', 'small', 'intestine', 'peptide', 'produced', 'pepsin', 'digestion', 'bovine', 'lactoferricin', 'blfcin', 'induced', 'expression', 'mature', 'il-18', 'organ', 'culture', 'addition', 'il-18', 'blfcin', 'induced', 'significant', 'increases', 'caspase-1', 'activity', 'peritoneal', 'macrophages', 'organ', 'cultures', 'increase', 'mature', 'il-18', 'macrophages', 'inhibited', 'caspase-1', 'inhibitor', 'caspase-1', 'known', 'cleave', 'proform', 'il-18', 'produce', 'active', 'mature', 'il-18', 'finally', 'induced', 'expression', 'ifngamma', 'peritoneal', 'macrophages', 'importantly', 'ifngamma', 'knockout', 'administration', 'resulted', 'increased', 'expression', 'caspase-1', 'protein', 'induction', 'il-18', 'caspase-1', 'activity', 'mature', 'il-18', 'observed', 'results', 'indicate', 'orally', 'administered', 'induce', 'expression', 'ifngamma', 'caspase-1', 'small', 'intestine', 'ifngamma', 'increases', 'expression', 'target', 'genes', 'including', 'il-18', 'active', 'caspase-1', 'cleaves', 'il-18', 'generate', 'mature', 'il-18', 'activates', 'effector', 'pathway', 'mediated', 'ifngamma', 'caspase-1', 'il-18', 'ingested', 'activate', 'single', 'effector', 'pathway', 'example', 'administration', 'could', 'activate', 'ifngamma', 'caspase-1', 'il-18', 'effector', 'pathway', 'inhibit', 'tumor', 'growth', 'metastasis', 'activation', 'ifnalpha', 'effector', 'pathway']\n",
      "['clinical', 'infectious', 'diseases', 'official', 'publication', 'infectious', 'diseases', 'society', 'america', 'predictive', 'value', 'cytomegalovirus', 'cmv)-specific', 'assays', 'development', 'retinitis', 'patients', 'background', 'examined', 'potential', 'clinical', 'utility', 'using', 'cytomegalovirus', 'cmv)-specific', 'immunoassay', 'determine', 'developing', 'onset', 'retinitis', 'patients', 'acquired', 'immunodeficiency', 'syndrome', 'methods', 'specific', 'assays', 'performed', 'multiparameter', 'cytometry', 'using', 'stored', 'peripheral', 'blood', 'mononuclear', 'cells', 'obtained', 'observational', 'study', 'months', 'onset', 'diagnosed', 'patients', 'study', 'visit', 'dilated', 'ophthalmologic', 'examination', 'revealed', 'evidence', 'study', 'visit', 'control', 'subjects', 'matched', 'absolute', 'count', 'entry', 'subsequently', 'develop', 'retinitis', 'years', 'study', 'follow', 'results', 'significant', 'differences', 'specific', 'interferon', 'gamma', 'interleukin-2', 'expression', 'peripheral', 'blood', 'mononuclear', 'cells', 'patients', 'control', 'subjects', 'although', 'trends', 'toward', 'lower', 'percentages', 'absolute', 'numbers', 'specific', 'cytokine', 'expressing', 'cells', 'memory', 'phenotype', 'cd27(-)cd28(-', 'early', 'memory', 'phenotype', 'cd45ra', 'patients', 'control', 'subjects', 'differences', 'statistically', 'significant', 'conclusions', 'studies', 'reported', 'specific', 'responses', 'distinguish', 'patients', 'active', 'protective', 'immunity', 'inactive', 'immune', 'restoration', 'antiretroviral', 'treatment', 'protective', 'immunity', 'however', 'multiple', 'specific', 'immune', 'responses', 'measured', 'appear', 'clinical', 'utility', 'predicting', 'patients', 'developing', 'onset', 'sufficient', 'accuracy', 'guiding', 'therapeutic', 'management']\n",
      "300\n",
      "[['blood', 'interleukin', 'preserves', 'perforin', 'dependent', 'graft', 'versus', 'leukemia', 'effect', 'allogeneic', 'marrow', 'transplantation', 'recently', 'shown', 'early', 'administration', 'interleukin', 'il-18', 'marrow', 'transplantation', 'attenuates', 'acute', 'graft', 'versus', 'disease', 'lethally', 'irradiated', 'parent', '->b6d2f1', 'model', 'study', 'investigated', 'whether', 'il-18', 'maintain', 'graft', 'versus', 'leukemia', 'effect', 'context', 'b6d2f1', 'received', 'transplants', 'depleted', 'marrow', 'splenic', 'cells', 'either', 'syngeneic', 'allogeneic', 'donors', 'recipient', 'treated', 'recombinant', 'murine', 'il-18', 'control', 'diluent', 'initial', 'studies', 'demonstrated', 'il-18', 'treatment', 'affect', 'proliferative', 'responses', 'cytolytic', 'effector', 'functions', 'cells', 'subsequent', 'experiments', 'animals', 'received', 'mastocytoma', 'cells', 'syngeneic', 'transplant', 'recipients', 'leukemia', 'allogeneic', 'transplant', 'recipients', 'effectively', 'rejected', 'leukemia', 'regardless', 'treatment', 'il-18', 'significantly', 'reduced', 'related', 'mortality', 'examination', 'cytotoxic', 'mechanisms', 'perforin', 'deficient', 'donor', 'cells', 'demonstrated', 'perforin', 'critical', 'effect', 'taken', 'together', 'demonstrate', 'il-18', 'attenuate', 'acute', 'without', 'impairing', 'vitro', 'cytolytic', 'function', 'activity', 'allogeneic'], ['clinical', 'cancer', 'research', 'official', 'journal', 'american', 'association', 'cancer', 'research', 'intensification', 'antitumor', 'effect', 'helper', 'dominant', 'adoptive', 'immunogene', 'therapy', 'advanced', 'orthotopic', 'colon', 'cancer', 'purpose', 'helper', 'balance', 'controlled', 'cells', 'producing', 'cytokines', 'plays', 'important', 'roles', 'antitumor', 'immunity', 'interleukin-18', 'il-18', 'together', 'il-12', 'promoting', 'generation', 'gamma', 'producing', 'cells', 'study', 'determine', 'whether', 'cytotoxic', 'lymphocyte', 'secreted', 'murine', 'il-18', 'induced', 'dominant', 'state', 'inhibited', 'development', 'primary', 'tumors', 'synchronous', 'liver', 'metastases', 'orthotopic', 'colon', 'cancer', 'model', 'experimental', 'design', 'murine', 'il-18', 'transduced', 'activated', 'lymphocytes', 'adenovirus', 'vector', 'encoding', 'il-18', 'adil-18', 'liposome', 'complex', 'method', 'efficacy', 'adoptive', 'immunogene', 'therapy', 'using', 'adil-18', 'without', 'il-12', 'tested', 'advanced', 'orthotopic', 'xenograft', 'murine', 'colon', 'cancer', 'elucidate', 'mechanism', 'responsible', 'adoptive', 'immunogene', 'therapy', 'serum', 'gamma', 'tumor', 'necrosis', 'factor', 'alpha', 'production', 'cytokine', 'balance', 'quantification', 'tumor', 'vascularity', 'investigated', 'results', 'modified', 'method', 'adenoviral', 'transduction', 'lymphocytes', 'achieved', 'efficient', 'il-18', 'production', 'without', 'toxicity', 'orthotopic', 'colon', 'cancer', 'combined', 'recombinant', 'il-12', 'adil-18', 'ril-12', 'therapeutic', 'efficacy', 'showed', 'smaller', 'tumors', 'liver', 'metastases', 'disseminated', 'tumors', 'significant', 'difference', 'volume', 'primary', 'tumors', 'number', 'liver', 'metastases', 'compared', 'group', 'treated', 'adil-18', 'alone', 'group', 'addition', 'median', 'survival', 'group', 'treated', 'adil-18', 'adil-18', 'ril-12', 'significant', 'difference', 'antitumor', 'mechanisms', 'involved', 'dominant', 'response', 'serum', 'cytokine', 'balance', 'suppression', 'neovascularization', 'primary', 'tumor', 'conclusion', 'suggest', 'strategy', 'balance', 'based', 'adoptive', 'immunogene', 'therapy', 'might', 'useful', 'advanced', 'cancer', 'patients'], ['kekkaku', 'tuberculosis', 'pathogenesis', 'development', 'mechanism', 'mycobacterium', 'avium', 'complex', 'infection', 'mycobacterium', 'avium', 'complex', 'causes', 'respiratory', 'tract', 'infections', 'develops', 'granulomatous', 'lesions', 'alveolar', 'areas', 'bronchioles', 'humans', 'contrast', 'intestinal', 'tract', 'primary', 'infection', 'immunocompromised', 'hosts', 'patients', 'acquired', 'immune', 'deficiency', 'syndrome', 'animals', 'recent', 'studies', 'revealed', 'hosts', 'hereditary', 'dysfunction', 'mediators', 'cascade', 'hosts', 'titer', 'antibodies', 'interferon', 'gamma', 'susceptible', 'hosts', 'facilitate', 'dissemination', 'however', 'disseminated', 'lesions', 'formed', 'mainly', 'tissues', 'mechanism', 'development', 'different', 'related', 'infection', 'review', 'specifically', 'discuss', 'development', 'mechanism', 'disseminated', 'disease', 'recently', 'identified', 'several', 'pathological', 'conditions'], ['research', 'human', 'retroviruses', 'interruption', 'antiretroviral', 'therapy', 'initiated', 'primary', 'hiv-1', 'infection', 'impact', 'therapeutic', 'vaccination', 'strategy', 'combined', 'interleukin', 'il)-2', 'compared', 'alone', 'randomized', 'study', 'specific', 'responses', 'critical', 'control', 'infection', 'evaluated', 'impact', 'immune', 'based', 'interventions', 'patients', 'first', 'treated', 'primary', 'hiv-1', 'infection', 'forty', 'three', 'patients', 'randomized', 'within', 'three', 'groups', 'receive', 'either', 'interleukin-2', 'group', 'boosts', 'alvac', 'vcp1433', 'lipo-6', 'followed', 'interleukin-2', 'group', 'compared', 'immune', 'intervention', 'control', 'group', 'monitored', 'responses', 'impact', 'strategies', 'viral', 'replication', 'subsequently', 'assessed', 'treatment', 'interruption', 'specific', 'responses', 'change', 'study', 'period', 'immunized', 'patients', 'relative', 'controls', 'vaccination', 'transient', 'effect', 'interferon', 'gamma', 'producing', 'responses', 'viral', 'rebound', 'treatment', 'interruption', 'similar', 'immunized', 'patients', 'controls', 'forty', 'percent', 'patients', 'values', '10,000', 'copies', 'weeks', 'interruption', 'cumulative', 'treatment', 'represented', 'almost', 'total', 'follow', 'period', 'immunological', 'virological', 'status', 'interruption', 'predictive', 'level', 'viral', 'rebound', 'treatment', 'interruption', 'whereas', 'level', 'level', 'interruption', 'predictive', 'treatment', 'treatment', 'interruption', 'patients', 'treated', 'early', 'primary', 'infection', 'basis', 'pilot', 'study', 'immunizations', 'interleukin-2', 'appear', 'supplementary', 'benefit'], ['journal', 'acquired', 'immune', 'deficiency', 'syndromes', 'phase', 'study', 'hiv-1', 'canarypox', 'vaccine', 'vcp1452', 'alone', 'combination', 'rgp120', 'negative', 'results', 'trigger', 'phase', 'correlates', 'trial', 'background', 'vaccines', 'define', 'correlation', 'vaccine', 'induced', 'immune', 'response', 'protection', 'infection', 'conducted', 'phase', 'trial', 'determine', 'canarypox', 'vaccine', 'candidate', 'vcp1452', 'administered', 'rgp120', 'subunit', 'protein', 'would', 'qualify', 'trial', 'define', 'correlate', 'efficacy', 'methods', 'total', 'healthy', 'volunteers', 'enrolled', 'groups', 'received', 'vcp1452', 'alone', 'months', 'received', 'vcp1452', 'different', 'regimens', 'rgp120', 'coadministration', 'received', 'placebo', 'specific', 'antibody', 'responses', 'measured', 'enzyme', 'linked', 'immunoassay', 'elisa', 'neutralizing', 'activity', 'responses', 'measured', 'chromium', 'release', 'interferon', 'gamma', 'ifngamma', 'enzyme', 'linked', 'immunospot', 'elispot', 'assay', 'results', 'significant', 'neutralizing', 'antibody', 'responses', 'strain', 'detected', 'vaccine', 'groups', 'responses', 'ranging', 'confidence', 'interval', 'cumulative', 'specific', 'ifngamma', 'elispot', 'assay', 'responses', 'recipients', 'vcp1452', 'alone', 'recipients', 'vcp1452', 'rgp120', 'conclusions', 'overall', 'specific', 'cytotoxic', 'lymphocyte', 'response', 'sufficient', 'qualify', 'regimen', 'subsequent', 'trial', 'designed', 'detect', 'immune', 'correlate', 'protection', 'requiring', 'minimum', 'frequency'], ['antimicrobial', 'agents', 'chemotherapy', 'cytokine', 'expression', 'colonic', 'mucosa', 'human', 'immunodeficiency', 'virus', 'infected', 'individuals', 'months', 'antiretroviral', 'therapy', 'level', 'human', 'immunodeficiency', 'virus', 'replication', 'rapid', 'breakdown', 'mucosal', 'immune', 'system', 'hallmarks', 'infection', 'cytokine', 'dysregulation', 'related', 'phenomena', 'using', 'quantified', 'colonic', 'mucosal', 'expression', 'selected', 'proinflammatory', 'regulatory', 'gamma', 'interferon', 'gamma', 'tumor', 'necrosis', 'factor', 'alpha', 'alpha', 'interleukin-2', 'il-10', 'inhibitory', 'il-16', 'cytokines', 'infected', 'patients', 'months', 'highly', 'active', 'antiretroviral', 'therapy', 'haart', 'dynamics', 'measured', 'colonic', 'mucosa', 'blood', 'seven', 'negative', 'individuals', 'served', 'controls', 'mucosal', 'expression', 'alpha', 'gamma', 'il-10', 'significantly', 'higher', 'infected', 'patients', 'control', 'patients', 'remained', 'elevated', 'months', 'haart', 'despite', 'decline', 'blood', 'mucosal', 'levels', 'increase', 'level', 'lymphocytes', 'levels', 'elevated', 'treatment', 'returned', 'nearly', 'normal', 'therapy', 'despite', 'reductions', 'levels', 'mucosal', 'restoration', 'mucosal', 'lymphocytes', 'antiretroviral', 'therapy', 'failed', 'restore', 'normal', 'colonic', 'immunologic', 'environment'], ['london', 'england', 'mucosal', 'neisseria', 'gonorrhoeae', 'coinfection', 'acquisition', 'associated', 'enhanced', 'systemic', 'specific', 'responses', 'background', 'immune', 'response', 'mucosally', 'acquired', 'pathogens', 'influenced', 'mucosal', 'immune', 'milieu', 'acquisition', 'neisseria', 'gonorrhoeae', 'impair', 'dendritic', 'immune', 'function', 'hypothesized', 'coinfection', 'acquisition', 'would', 'impair', 'subsequent', 'systemic', 'responses', 'methods', 'monthly', 'screening', 'sexually', 'transmitted', 'infections', 'performed', 'seronegative', 'kenyan', 'female', 'workers', 'prevention', 'trial', 'early', 'specific', 'responses', 'subsequent', 'viral', 'point', 'assayed', 'participants', 'acquiring', 'correlated', 'presence', 'prior', 'genital', 'infections', 'acquisition', 'results', 'thirty', 'participants', 'acquired', 'follow', 'classical', 'sexually', 'transmitted', 'infection', 'acquisition', 'gonorrhoeae', 'coinfection', 'present', 'acquisition', 'associated', 'increased', 'breadth', 'magnitude', 'systemic', 'specific', 'responses', 'using', 'interferon', 'gamma', 'gamma', 'mip-1', 'output', 'genital', 'infections', 'associated', 'differences', 'specific', 'response', 'neither', 'gonorrhoeae', 'genital', 'infections', 'associated', 'differences', 'plasma', 'viral', 'point', 'conclusion', 'unexpectedly', 'genital', 'gonorrhoeae', 'infection', 'heterosexual', 'acquisition', 'associated', 'substantially', 'enhanced', 'specific', 'responses', 'although', 'differences', 'viral', 'point', 'implications', 'development', 'mucosal', 'vaccines', 'adjuvants'], ['revista', 'argentina', 'microbiologã?â\\xada', 'comparison', 'different', 'methods', 'extraction', 'blood', 'detect', 'fungal', 'comparison', 'different', 'methods', 'extraction', 'blood', 'detect', 'fungal', 'invasive', 'fungal', 'infections', 'associated', 'mortality', 'reaching', 'levels', 'significant', 'failure', 'antifungical', 'treatments', 'mostly', 'obeys', 'difficulties', 'obtaining', 'accurate', 'mycologic', 'diagnosis', 'sensitivity', 'conventional', 'methods', 'mainly', 'neutropenic', 'patients', 'various', 'methods', 'based', 'fungal', 'study', 'currently', 'diagnosis', 'mycotic', 'infections', 'herein', 'evaluated', 'procedures', 'extraction', 'purification', 'fungal', 'blood', 'detection', 'showed', 'equal', 'efficiency', 'obtaining', 'performance', 'universal', 'primers', 'target'], ['london', 'england', 'immune', 'responses', 'abacavir', 'antigen', 'presenting', 'cells', 'hypersensitive', 'patients', 'objectives', 'potentially', 'threatening', 'hypersensitive', 'reaction', 'accompanies', 'nucleoside', 'analogue', 'abacavir', 'caucasian', 'individuals', 'b*5701', 'hsp70', 'alleles', 'shown', 'predict', 'susceptibility', 'hypersensitivity', 'design', 'methods', 'study', 'undertaken', 'provide', 'mechanistic', 'understanding', 'highly', 'significant', 'genetic', 'association', 'class', 'hsp70', 'alleles', 'hypersensitivity', 'results', 'study', 'induced', 'localization', 'intracellular', 'hsp70', 'endosomal', 'vesicles', 'antigen', 'presenting', 'cells', 'demonstrated', 'stimulated', 'redistribution', 'endogenous', 'hsp70', 'substantially', 'higher', 'genetically', 'homogenous', 'b*5701', 'hsp70', 'hypersensitive', 'individuals', 'naive', 'individuals', 'comparison', 'heterogeneous', 'tolerant', 'patients', 'increased', 'expression', 'hsp70', 'detected', 'hypersensitive', 'group', 'measured', 'cytometry', 'blocking', 'hsp70', 'hsp70', 'surface', 'receptors', 'abrogated', 'stimulated', 'hsp70', 'redistribution', 'sensitized', 'individuals', 'basal', 'levels', 'addition', 'tcralphabeta', 'b57/58', 'antibodies', 'ablated', 'expression', 'hsp70', 'cells', 'expressing', 'activation', 'markers', 'increased', 'stimulation', 'hypersensitive', 'patients', 'stimulated', 'interferon', 'gamma', 'levels', 'higher', 'hypersensitive', 'patients', 'comparison', 'tolerant', 'individuals', 'versus', 'conclusion', 'present', 'indicates', 'stimulates', 'innate', 'immune', 'response', 'activates', 'antigen', 'presenting', 'cells', 'endogenous', 'hsp70', 'mediated', 'receptor', 'pathway', 'genetically', 'susceptible', 'individuals', 'potentially', 'initiating', 'immuno', 'pathological', 'hypersensitive', 'response']]\n"
     ]
    }
   ],
   "source": [
    "for index, row in pubmed_dataset.iterrows():\n",
    "    tokens = prepare_text_for_lda(str(row['Text']))\n",
    "    if random.random() > .995:\n",
    "        print(tokens)\n",
    "    text_data.append(tokens)\n",
    "print(len(text_data))\n",
    "print(text_data[1:10])"
   ]
  },
  {
   "cell_type": "markdown",
   "metadata": {},
   "source": [
    "## Creating BOW with Dictionary\n",
    "\n",
    "Doc2bow: Convert document (a list of words) into the bag-of-words format = list of (token_id, token_count) 2-tuples"
   ]
  },
  {
   "cell_type": "code",
   "execution_count": 7,
   "metadata": {},
   "outputs": [
    {
     "ename": "ModuleNotFoundError",
     "evalue": "No module named 'gensim'",
     "output_type": "error",
     "traceback": [
      "\u001b[1;31m---------------------------------------------------------------------------\u001b[0m",
      "\u001b[1;31mModuleNotFoundError\u001b[0m                       Traceback (most recent call last)",
      "\u001b[1;32m<ipython-input-7-83f4a41b8408>\u001b[0m in \u001b[0;36m<module>\u001b[1;34m\u001b[0m\n\u001b[1;32m----> 1\u001b[1;33m \u001b[1;32mfrom\u001b[0m \u001b[0mgensim\u001b[0m \u001b[1;32mimport\u001b[0m \u001b[0mcorpora\u001b[0m\u001b[1;33m\u001b[0m\u001b[1;33m\u001b[0m\u001b[0m\n\u001b[0m\u001b[0;32m      2\u001b[0m \u001b[0mdictionary\u001b[0m \u001b[1;33m=\u001b[0m \u001b[0mcorpora\u001b[0m\u001b[1;33m.\u001b[0m\u001b[0mDictionary\u001b[0m\u001b[1;33m(\u001b[0m\u001b[0mtext_data\u001b[0m\u001b[1;33m)\u001b[0m\u001b[1;33m\u001b[0m\u001b[1;33m\u001b[0m\u001b[0m\n\u001b[0;32m      3\u001b[0m \u001b[0mcorpus\u001b[0m \u001b[1;33m=\u001b[0m \u001b[1;33m[\u001b[0m\u001b[0mdictionary\u001b[0m\u001b[1;33m.\u001b[0m\u001b[0mdoc2bow\u001b[0m\u001b[1;33m(\u001b[0m\u001b[0mtext\u001b[0m\u001b[1;33m)\u001b[0m \u001b[1;32mfor\u001b[0m \u001b[0mtext\u001b[0m \u001b[1;32min\u001b[0m \u001b[0mtext_data\u001b[0m\u001b[1;33m]\u001b[0m\u001b[1;33m\u001b[0m\u001b[1;33m\u001b[0m\u001b[0m\n\u001b[0;32m      4\u001b[0m \u001b[0mprint\u001b[0m\u001b[1;33m(\u001b[0m\u001b[0mcorpus\u001b[0m\u001b[1;33m[\u001b[0m\u001b[1;36m0\u001b[0m\u001b[1;33m]\u001b[0m\u001b[1;33m)\u001b[0m\u001b[1;33m\u001b[0m\u001b[1;33m\u001b[0m\u001b[0m\n\u001b[0;32m      5\u001b[0m \u001b[0mprint\u001b[0m\u001b[1;33m(\u001b[0m\u001b[1;34m\"-----\"\u001b[0m\u001b[1;33m)\u001b[0m\u001b[1;33m\u001b[0m\u001b[1;33m\u001b[0m\u001b[0m\n",
      "\u001b[1;31mModuleNotFoundError\u001b[0m: No module named 'gensim'"
     ]
    }
   ],
   "source": [
    "from gensim import corpora\n",
    "dictionary = corpora.Dictionary(text_data)\n",
    "corpus = [dictionary.doc2bow(text) for text in text_data]\n",
    "print(corpus[0])\n",
    "print(\"-----\")\n",
    "print(corpus[1])\n",
    "import pickle\n",
    "pickle.dump(corpus, open('corpus.pkl', 'wb'))\n",
    "dictionary.save('dictionary.gensim')"
   ]
  },
  {
   "cell_type": "markdown",
   "metadata": {},
   "source": [
    "## Training LDA model"
   ]
  },
  {
   "cell_type": "code",
   "execution_count": null,
   "metadata": {},
   "outputs": [],
   "source": [
    "import gensim\n",
    "NUM_TOPICS = 4\n",
    "ldamodel = gensim.models.ldamodel.LdaModel(corpus, num_topics = NUM_TOPICS, id2word=dictionary, passes=15, random_state=42)\n",
    "ldamodel.save('model5.gensim')\n"
   ]
  },
  {
   "cell_type": "markdown",
   "metadata": {},
   "source": [
    "## Compute Model Perplexity and Coherence Score"
   ]
  },
  {
   "cell_type": "code",
   "execution_count": null,
   "metadata": {},
   "outputs": [],
   "source": [
    "from gensim.models.coherencemodel import CoherenceModel\n",
    "\n",
    "# Compute Perplexity\n",
    "print('\\nPerplexity: ', ldamodel.log_perplexity(corpus))  # a measure of how good the model is. lower the better.\n",
    "\n",
    "# Compute Coherence Score\n",
    "coherence_model_lda = CoherenceModel(model=ldamodel, texts=text_data, dictionary=dictionary, coherence='c_v')\n",
    "coherence_lda = coherence_model_lda.get_coherence()\n",
    "print('\\nCoherence Score: ', coherence_lda)"
   ]
  },
  {
   "cell_type": "markdown",
   "metadata": {},
   "source": [
    "## Finding Model with Optimal K - Number of Topics"
   ]
  },
  {
   "cell_type": "code",
   "execution_count": null,
   "metadata": {},
   "outputs": [],
   "source": [
    "def compute_coherence_values(dictionary, corpus, texts, limit, start=2, step=3):\n",
    "    \"\"\"\n",
    "    Compute c_v coherence for various number of topics\n",
    "\n",
    "    Parameters:\n",
    "    ----------\n",
    "    dictionary : Gensim dictionary\n",
    "    corpus : Gensim corpus\n",
    "    texts : List of input texts\n",
    "    limit : Max num of topics\n",
    "\n",
    "    Returns:\n",
    "    -------\n",
    "    model_list : List of LDA topic models\n",
    "    coherence_values : Coherence values corresponding to the LDA model with respective number of topics\n",
    "    \"\"\"\n",
    "    coherence_values = []\n",
    "    perplexity_values = []\n",
    "    model_list = []\n",
    "    for num_topics in range(start, limit, step):\n",
    "        model = gensim.models.ldamodel.LdaModel(corpus, num_topics=num_topics, id2word=dictionary, passes=15, random_state=42)\n",
    "        model_list.append(model)\n",
    "        coherencemodel = CoherenceModel(model=model, texts=texts, dictionary=dictionary, coherence='c_v')\n",
    "        perplexity = model.log_perplexity(corpus)\n",
    "\n",
    "        perplexity_values.append(perplexity)\n",
    "        coherence_values.append(coherencemodel.get_coherence())\n",
    "\n",
    "    return model_list, coherence_values, perplexity_values"
   ]
  },
  {
   "cell_type": "code",
   "execution_count": null,
   "metadata": {},
   "outputs": [],
   "source": [
    "# Can take a long time to run.\n",
    "model_list, coherence_values, perplexity_values = compute_coherence_values(dictionary=dictionary, corpus=corpus, texts=text_data, start=2, limit=40, step=2)"
   ]
  },
  {
   "cell_type": "markdown",
   "metadata": {},
   "source": [
    "## Coherence\n",
    "\n",
    "Coherence measures the relative distance between words within a topic."
   ]
  },
  {
   "cell_type": "code",
   "execution_count": null,
   "metadata": {},
   "outputs": [],
   "source": [
    "from matplotlib import pyplot as plt\n",
    "\n",
    "# Show graph\n",
    "limit=40; start=2; step=2;\n",
    "x = range(start, limit, step)\n",
    "plt.plot(x, coherence_values)\n",
    "plt.xlabel(\"Num Topics\")\n",
    "plt.ylabel(\"Coherence score\")\n",
    "\n",
    "plt.show()"
   ]
  },
  {
   "cell_type": "markdown",
   "metadata": {},
   "source": [
    "## Perplexity\n",
    "\n",
    "Not Often used to pick LDA model. As per https://towardsdatascience.com/evaluate-topic-model-in-python-latent-dirichlet-allocation-lda-7d57484bb5d0\n",
    "\n",
    "\"However, recent studies have shown that predictive likelihood (or equivalently, perplexity) and human judgment are often not correlated, and even sometimes slightly anti-correlated.\""
   ]
  },
  {
   "cell_type": "code",
   "execution_count": null,
   "metadata": {},
   "outputs": [],
   "source": [
    "# Show graph\n",
    "limit=40; start=2; step=2;\n",
    "x = range(start, limit, step)\n",
    "plt.plot(x, perplexity_values)\n",
    "plt.xlabel(\"Num Topics\")\n",
    "plt.ylabel(\"Perplexity\")\n",
    "\n",
    "plt.show()"
   ]
  },
  {
   "cell_type": "markdown",
   "metadata": {},
   "source": [
    "## Top words in each Topic"
   ]
  },
  {
   "cell_type": "code",
   "execution_count": null,
   "metadata": {},
   "outputs": [],
   "source": [
    "topics = ldamodel.print_topics(num_words=10)\n",
    "for topic in topics:\n",
    "    print(topic)\n",
    "    print('----------------------')"
   ]
  },
  {
   "cell_type": "code",
   "execution_count": null,
   "metadata": {},
   "outputs": [],
   "source": [
    "from matplotlib import pyplot as plt\n",
    "from wordcloud import WordCloud, STOPWORDS\n",
    "import matplotlib.colors as mcolors\n",
    "from nltk.corpus import stopwords\n",
    "stop_words = stopwords.words('english')\n",
    "\n",
    "cols = [color for name, color in mcolors.TABLEAU_COLORS.items()]  # more colors: 'mcolors.XKCD_COLORS'\n",
    "\n",
    "cloud = WordCloud(stopwords=stop_words,\n",
    "                  background_color='white',\n",
    "                  width=2500,\n",
    "                  height=1800,\n",
    "                  max_words=10,\n",
    "                  colormap='tab10',\n",
    "                  color_func=lambda *args, **kwargs: cols[i],\n",
    "                  prefer_horizontal=1.0)\n",
    "\n",
    "topics = ldamodel.show_topics(formatted=False)\n",
    "\n",
    "fig, axes = plt.subplots(2, 2, figsize=(10,10), sharex=True, sharey=True)\n",
    "\n",
    "for i, ax in enumerate(axes.flatten()):\n",
    "    fig.add_subplot(ax)\n",
    "    topic_words = dict(topics[i][1])\n",
    "    cloud.generate_from_frequencies(topic_words, max_font_size=300)\n",
    "    plt.gca().imshow(cloud)\n",
    "    plt.gca().set_title('Topic ' + str(i), fontdict=dict(size=16))\n",
    "    plt.gca().axis('off')\n",
    "\n",
    "\n",
    "plt.subplots_adjust(wspace=0, hspace=0)\n",
    "plt.axis('off')\n",
    "plt.margins(x=0, y=0)\n",
    "plt.tight_layout()\n",
    "plt.show()"
   ]
  },
  {
   "cell_type": "markdown",
   "metadata": {},
   "source": [
    "## Testing on new document"
   ]
  },
  {
   "cell_type": "code",
   "execution_count": null,
   "metadata": {},
   "outputs": [],
   "source": [
    "new_doc = 'Increase in efficacy of cancer radiotherapy by combination with whole-body low dose irradiation'\n",
    "new_doc = prepare_text_for_lda(new_doc)\n",
    "new_doc_bow = dictionary.doc2bow(new_doc)\n",
    "print(new_doc_bow)\n",
    "print(ldamodel.get_document_topics(new_doc_bow))"
   ]
  },
  {
   "cell_type": "markdown",
   "metadata": {},
   "source": [
    "## Creating Visualization for Topics"
   ]
  },
  {
   "cell_type": "code",
   "execution_count": null,
   "metadata": {},
   "outputs": [],
   "source": [
    "dictionary = gensim.corpora.Dictionary.load('dictionary.gensim')\n",
    "corpus = pickle.load(open('corpus.pkl', 'rb'))\n",
    "lda = gensim.models.ldamodel.LdaModel.load('model5.gensim')\n",
    "\n",
    "import pyLDAvis.gensim\n",
    "lda_display = pyLDAvis.gensim.prepare(lda, corpus, dictionary, sort_topics=False)\n",
    "pyLDAvis.display(lda_display)\n",
    "pyLDAvis.save_html(lda_display, 'lda.html')"
   ]
  }
 ],
 "metadata": {
  "kernelspec": {
   "display_name": "Python 3",
   "language": "python",
   "name": "python3"
  },
  "language_info": {
   "codemirror_mode": {
    "name": "ipython",
    "version": 3
   },
   "file_extension": ".py",
   "mimetype": "text/x-python",
   "name": "python",
   "nbconvert_exporter": "python",
   "pygments_lexer": "ipython3",
   "version": "3.8.3"
  }
 },
 "nbformat": 4,
 "nbformat_minor": 4
}

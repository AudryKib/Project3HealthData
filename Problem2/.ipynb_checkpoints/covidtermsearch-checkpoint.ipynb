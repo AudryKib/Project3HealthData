{
 "cells": [
  {
   "cell_type": "code",
   "execution_count": 12,
   "metadata": {},
   "outputs": [
    {
     "name": "stdout",
     "output_type": "stream",
     "text": [
      "16\n",
      "36\n"
     ]
    }
   ],
   "source": [
    "import urllib\n",
    "#d1 +=d2, returns nothing\n",
    "#If k in d1 and d2, overrides in d2\n",
    "def addDictionary(d1,d2):\n",
    "    for k in d2.keys():\n",
    "        d1[k] = d2[k]\n",
    "#if ss in s,return after s after ss\n",
    "def afterSubstr(s,ss):\n",
    "    return s[s.find(ss)+len(ss):]\n",
    "#returns 2 meshTree, a dict from mesh terms to mesh major headings\n",
    "def extractMESHTrees(meshFile,diseaseMode=True):\n",
    "    meshTree = {}\n",
    "    if diseaseMode:\n",
    "        newRecord = 'NEWRECORD'\n",
    "        majorHeading = 'MH ='\n",
    "        subHeading = 'ENTRY ='\n",
    "    else:\n",
    "        newRecord = 'NEWRECORD'\n",
    "        majorHeading = 'NM ='\n",
    "        subHeading = 'SY ='\n",
    "    with open(meshFile, mode='rb') as file:\n",
    "        mesh = file.readlines()\n",
    "        MH = []\n",
    "        currentTerm = {}\n",
    "        for lineB in mesh:\n",
    "            line = lineB.decode('ascii','ignore')\n",
    "            if newRecord in line:\n",
    "                addDictionary(meshTree,currentTerm)\n",
    "                MH = []\n",
    "                currentTerm = {}\n",
    "            elif majorHeading in line:\n",
    "                MH = [i.strip().lower() for i in afterSubstr(line,\"MH =\").split(',')]\n",
    "                for m in MH:\n",
    "                    currentTerm[m] = [m]\n",
    "            elif subHeading in line:\n",
    "                l = afterSubstr(line,\"ENTRY =\")\n",
    "                if \"|\" in l:\n",
    "                    l = l[:l.find(\"|\")]\n",
    "                terms = [i.strip().lower() for i in l.split(',')]\n",
    "                for t in terms:\n",
    "                    currentTerm[t] = MH\n",
    "            else:\n",
    "                continue\n",
    "    return meshTree\n",
    "\n",
    "diseaseDict = extractMESHTrees('d2019.bin',diseaseMode = True)\n",
    "chemicalDict = extractMESHTrees('c2019.bin',diseaseMode = False)\n",
    "\n",
    "print(max([len(k.split(' ')) for k in diseaseDict.keys()]))\n",
    "print(max([len(k.split(' ')) for k in chemicalDict.keys()]))\n",
    "\n",
    "\n",
    "    \n",
    "\n",
    "# Download gene records linked to a set of proteins corresponding to a list\n",
    "# of GI numbers.\n",
    "#def getMeshTerm(pmid):\n",
    "#    pmid=str(pmid)\n",
    "#    db1 = 'pubmed';  # &dbfrom\n",
    "    #assemble the elink URL\n",
    "#    base = 'https://eutils.ncbi.nlm.nih.gov/entrez/eutils/';\n",
    "#    url = base + \"epost.fcgi?db={}&id={}\".format(db1,pmid);\n",
    "#    print(url)\n",
    "#    url2 = base+ \"elink.fcgi?dbfrom=pubmed&query_key=1&WebEnv=MCID_608330df3a14f8318a671ac4\";\n",
    "#    url2 = base+ \"esummary.fcgi?db=pubmed&query_key=1&WebEnv=MCID_608330df3a14f8318a671ac4\";\n",
    "#    print(url2)\n",
    "#    with urllib.request.urlopen(base) as response:\n",
    "#        jsonData = json.loads(response.read())\n",
    "    \n",
    "#getMeshTerm(\"12525263\")"
   ]
  },
  {
   "cell_type": "code",
   "execution_count": 16,
   "metadata": {},
   "outputs": [
    {
     "name": "stdout",
     "output_type": "stream",
     "text": [
      "congenital ['congenital microtia']\n"
     ]
    }
   ],
   "source": [
    "l = list(diseaseDict.keys())\n",
    "print(l[104],diseaseDict[l[104]])"
   ]
  },
  {
   "cell_type": "code",
   "execution_count": null,
   "metadata": {},
   "outputs": [],
   "source": [
    "import spacy\n",
    "\n",
    "spacy.load(\"en_core_web_sm\")\n",
    "from spacy.lang.en import English\n",
    "parser = English()\n",
    "#code from LDA demo\n",
    "def tokenize(text):\n",
    "    lda_tokens = []\n",
    "    tokens = parser(text)\n",
    "    for token in tokens:\n",
    "        if token.orth_.isspace():\n",
    "            continue\n",
    "        # elif token.like_url:\n",
    "        #     lda_tokens.append('URL')\n",
    "        # elif token.orth_.startswith('@'):\n",
    "        #     lda_tokens.append('SCREEN_NAME')\n",
    "        else:\n",
    "            lda_tokens.append(token.lower_)\n",
    "    return lda_tokens\n",
    "def getMESHTerms(title,abstract):\n",
    "    text = title + '. ' + abstract"
   ]
  }
 ],
 "metadata": {
  "kernelspec": {
   "display_name": "Python 3",
   "language": "python",
   "name": "python3"
  },
  "language_info": {
   "codemirror_mode": {
    "name": "ipython",
    "version": 3
   },
   "file_extension": ".py",
   "mimetype": "text/x-python",
   "name": "python",
   "nbconvert_exporter": "python",
   "pygments_lexer": "ipython3",
   "version": "3.8.3"
  }
 },
 "nbformat": 4,
 "nbformat_minor": 4
}
